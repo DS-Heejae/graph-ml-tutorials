{
 "cells": [
  {
   "cell_type": "code",
   "execution_count": 1,
   "metadata": {},
   "outputs": [],
   "source": [
    "%matplotlib inline\n",
    "import os\n",
    "\n",
    "import numpy as np\n",
    "import pandas as pd\n",
    "import tensorflow as tf\n",
    "import matplotlib.pyplot as plt\n",
    "\n",
    "YAGO_DIR = \"../datasets/other/YAGO3-10/\""
   ]
  },
  {
   "cell_type": "markdown",
   "metadata": {},
   "source": [
    "## YAGO Dataset\n",
    "---"
   ]
  },
  {
   "cell_type": "markdown",
   "metadata": {},
   "source": [
    "### 데이터 불러오기"
   ]
  },
  {
   "cell_type": "code",
   "execution_count": 2,
   "metadata": {},
   "outputs": [],
   "source": [
    "train_df = pd.read_csv(os.path.join(YAGO_DIR,'train.txt'),\n",
    "                       sep='\\t', header=None, \n",
    "                       names=['subject','relation','object'])\n",
    "\n",
    "test_df = pd.read_csv(os.path.join(YAGO_DIR,'test.txt'),\n",
    "                      sep='\\t', header=None, \n",
    "                      names=['subject','relation','object'])\n",
    "\n",
    "valid_df = pd.read_csv(os.path.join(YAGO_DIR,'valid.txt'),\n",
    "                       sep='\\t', header=None, \n",
    "                       names=['subject','relation','object'])"
   ]
  },
  {
   "cell_type": "code",
   "execution_count": 3,
   "metadata": {},
   "outputs": [
    {
     "data": {
      "text/html": [
       "<div>\n",
       "<style scoped>\n",
       "    .dataframe tbody tr th:only-of-type {\n",
       "        vertical-align: middle;\n",
       "    }\n",
       "\n",
       "    .dataframe tbody tr th {\n",
       "        vertical-align: top;\n",
       "    }\n",
       "\n",
       "    .dataframe thead th {\n",
       "        text-align: right;\n",
       "    }\n",
       "</style>\n",
       "<table border=\"1\" class=\"dataframe\">\n",
       "  <thead>\n",
       "    <tr style=\"text-align: right;\">\n",
       "      <th></th>\n",
       "      <th>subject</th>\n",
       "      <th>relation</th>\n",
       "      <th>object</th>\n",
       "    </tr>\n",
       "  </thead>\n",
       "  <tbody>\n",
       "    <tr>\n",
       "      <th>0</th>\n",
       "      <td>Chatou</td>\n",
       "      <td>isLocatedIn</td>\n",
       "      <td>France</td>\n",
       "    </tr>\n",
       "    <tr>\n",
       "      <th>1</th>\n",
       "      <td>Boo_Young-tae</td>\n",
       "      <td>playsFor</td>\n",
       "      <td>Yangju_Citizen_FC</td>\n",
       "    </tr>\n",
       "    <tr>\n",
       "      <th>2</th>\n",
       "      <td>Toni_Kuivasto</td>\n",
       "      <td>isAffiliatedTo</td>\n",
       "      <td>Helsingin_Jalkapalloklubi</td>\n",
       "    </tr>\n",
       "    <tr>\n",
       "      <th>3</th>\n",
       "      <td>Josh_Smith_(soccer)</td>\n",
       "      <td>playsFor</td>\n",
       "      <td>Trinity_University_(Texas)</td>\n",
       "    </tr>\n",
       "    <tr>\n",
       "      <th>4</th>\n",
       "      <td>Albrecht_Dürer</td>\n",
       "      <td>diedIn</td>\n",
       "      <td>Nuremberg</td>\n",
       "    </tr>\n",
       "  </tbody>\n",
       "</table>\n",
       "</div>"
      ],
      "text/plain": [
       "               subject        relation                      object\n",
       "0               Chatou     isLocatedIn                      France\n",
       "1        Boo_Young-tae        playsFor           Yangju_Citizen_FC\n",
       "2        Toni_Kuivasto  isAffiliatedTo   Helsingin_Jalkapalloklubi\n",
       "3  Josh_Smith_(soccer)        playsFor  Trinity_University_(Texas)\n",
       "4       Albrecht_Dürer          diedIn                   Nuremberg"
      ]
     },
     "execution_count": 3,
     "metadata": {},
     "output_type": "execute_result"
    }
   ],
   "source": [
    "train_df.head()"
   ]
  },
  {
   "cell_type": "markdown",
   "metadata": {},
   "source": [
    "데이터의 구성은 위와 같이 3개의 정보(subject, relation, object)로 구성되어 있습니다. 예를 들어 2번째 행을 보면,  부영태(subject)가 양주 시민축구단(object)에서 활동하고(Relation) 있음을 알 수 있습니다. Knowledge Graph에서는 이렇게 정보를 표시하고 있습니다. "
   ]
  },
  {
   "cell_type": "markdown",
   "metadata": {},
   "source": [
    "보통 논문에서는 subject을 $h$, object을 $t$, relation을 $r$로 표기합니다. \n",
    "\n",
    "$\n",
    " h : \\mbox{subject, head} \\\\\n",
    " r : \\mbox{relation} \\\\\n",
    " t : \\mbox{object, tail}  \\\\\n",
    " (h,r,t) : \\mbox{A triple of head, relation and tail }\n",
    "$"
   ]
  },
  {
   "cell_type": "markdown",
   "metadata": {},
   "source": [
    "subject와 object들은 Graph 상에서 하나의 Node로서 표현되고, Relation은 Graph 상에서 하나의 Edge로 표현됩니다. \n",
    "\n",
    "![](https://imgur.com/5armrMx.png)"
   ]
  },
  {
   "cell_type": "markdown",
   "metadata": {},
   "source": [
    "여기서 중요한 것은 하나의 노드는 어떤 triple에서는 subject가 되기도 하고, 다른 triplet에서는 object가 되기도 합니다. 예를 들어, Nikola Tesla를 보면 subject로서 5개의 triplets, object로서 3개의 triplets가 있습니다."
   ]
  },
  {
   "cell_type": "code",
   "execution_count": 4,
   "metadata": {},
   "outputs": [
    {
     "data": {
      "text/html": [
       "<div>\n",
       "<style scoped>\n",
       "    .dataframe tbody tr th:only-of-type {\n",
       "        vertical-align: middle;\n",
       "    }\n",
       "\n",
       "    .dataframe tbody tr th {\n",
       "        vertical-align: top;\n",
       "    }\n",
       "\n",
       "    .dataframe thead th {\n",
       "        text-align: right;\n",
       "    }\n",
       "</style>\n",
       "<table border=\"1\" class=\"dataframe\">\n",
       "  <thead>\n",
       "    <tr style=\"text-align: right;\">\n",
       "      <th></th>\n",
       "      <th>subject</th>\n",
       "      <th>relation</th>\n",
       "      <th>object</th>\n",
       "    </tr>\n",
       "  </thead>\n",
       "  <tbody>\n",
       "    <tr>\n",
       "      <th>108650</th>\n",
       "      <td>Nikola_Tesla</td>\n",
       "      <td>diedIn</td>\n",
       "      <td>New_York_City</td>\n",
       "    </tr>\n",
       "    <tr>\n",
       "      <th>242809</th>\n",
       "      <td>Nikola_Tesla</td>\n",
       "      <td>isCitizenOf</td>\n",
       "      <td>United_States</td>\n",
       "    </tr>\n",
       "    <tr>\n",
       "      <th>591447</th>\n",
       "      <td>Nikola_Tesla</td>\n",
       "      <td>hasWonPrize</td>\n",
       "      <td>Order_of_the_Yugoslav_Crown</td>\n",
       "    </tr>\n",
       "    <tr>\n",
       "      <th>784802</th>\n",
       "      <td>Nikola_Tesla</td>\n",
       "      <td>isCitizenOf</td>\n",
       "      <td>Austrian_Empire</td>\n",
       "    </tr>\n",
       "    <tr>\n",
       "      <th>875999</th>\n",
       "      <td>Nikola_Tesla</td>\n",
       "      <td>hasGender</td>\n",
       "      <td>male</td>\n",
       "    </tr>\n",
       "  </tbody>\n",
       "</table>\n",
       "</div>"
      ],
      "text/plain": [
       "             subject     relation                       object\n",
       "108650  Nikola_Tesla       diedIn                New_York_City\n",
       "242809  Nikola_Tesla  isCitizenOf                United_States\n",
       "591447  Nikola_Tesla  hasWonPrize  Order_of_the_Yugoslav_Crown\n",
       "784802  Nikola_Tesla  isCitizenOf              Austrian_Empire\n",
       "875999  Nikola_Tesla    hasGender                         male"
      ]
     },
     "execution_count": 4,
     "metadata": {},
     "output_type": "execute_result"
    }
   ],
   "source": [
    "train_df[train_df.subject=='Nikola_Tesla'].head()"
   ]
  },
  {
   "cell_type": "code",
   "execution_count": 5,
   "metadata": {},
   "outputs": [
    {
     "data": {
      "text/html": [
       "<div>\n",
       "<style scoped>\n",
       "    .dataframe tbody tr th:only-of-type {\n",
       "        vertical-align: middle;\n",
       "    }\n",
       "\n",
       "    .dataframe tbody tr th {\n",
       "        vertical-align: top;\n",
       "    }\n",
       "\n",
       "    .dataframe thead th {\n",
       "        text-align: right;\n",
       "    }\n",
       "</style>\n",
       "<table border=\"1\" class=\"dataframe\">\n",
       "  <thead>\n",
       "    <tr style=\"text-align: right;\">\n",
       "      <th></th>\n",
       "      <th>subject</th>\n",
       "      <th>relation</th>\n",
       "      <th>object</th>\n",
       "    </tr>\n",
       "  </thead>\n",
       "  <tbody>\n",
       "    <tr>\n",
       "      <th>113997</th>\n",
       "      <td>Johann_Wolfgang_von_Goethe</td>\n",
       "      <td>influences</td>\n",
       "      <td>Nikola_Tesla</td>\n",
       "    </tr>\n",
       "    <tr>\n",
       "      <th>168888</th>\n",
       "      <td>Voltaire</td>\n",
       "      <td>influences</td>\n",
       "      <td>Nikola_Tesla</td>\n",
       "    </tr>\n",
       "    <tr>\n",
       "      <th>444631</th>\n",
       "      <td>Vivekananda</td>\n",
       "      <td>influences</td>\n",
       "      <td>Nikola_Tesla</td>\n",
       "    </tr>\n",
       "  </tbody>\n",
       "</table>\n",
       "</div>"
      ],
      "text/plain": [
       "                           subject    relation        object\n",
       "113997  Johann_Wolfgang_von_Goethe  influences  Nikola_Tesla\n",
       "168888                    Voltaire  influences  Nikola_Tesla\n",
       "444631                 Vivekananda  influences  Nikola_Tesla"
      ]
     },
     "execution_count": 5,
     "metadata": {},
     "output_type": "execute_result"
    }
   ],
   "source": [
    "train_df[train_df.object=='Nikola_Tesla'].head()"
   ]
  },
  {
   "cell_type": "markdown",
   "metadata": {},
   "source": [
    "### 데이터 탐색"
   ]
  },
  {
   "cell_type": "code",
   "execution_count": 6,
   "metadata": {},
   "outputs": [
    {
     "data": {
      "text/plain": [
       "123143"
      ]
     },
     "execution_count": 6,
     "metadata": {},
     "output_type": "execute_result"
    }
   ],
   "source": [
    "# 노드의 가짓 수\n",
    "num_nodes = len(set(train_df.subject) | set(train_df.object))\n",
    "num_nodes"
   ]
  },
  {
   "cell_type": "code",
   "execution_count": 7,
   "metadata": {},
   "outputs": [
    {
     "data": {
      "text/plain": [
       "37"
      ]
     },
     "execution_count": 7,
     "metadata": {},
     "output_type": "execute_result"
    }
   ],
   "source": [
    "# edge의 가짓 수 \n",
    "num_edges = len(set(train_df.relation))\n",
    "num_edges"
   ]
  },
  {
   "cell_type": "code",
   "execution_count": 8,
   "metadata": {},
   "outputs": [
    {
     "data": {
      "text/plain": [
       "subject     112853\n",
       "relation        37\n",
       "object       47933\n",
       "dtype: int64"
      ]
     },
     "execution_count": 8,
     "metadata": {},
     "output_type": "execute_result"
    }
   ],
   "source": [
    "train_df.nunique()"
   ]
  },
  {
   "cell_type": "code",
   "execution_count": 9,
   "metadata": {},
   "outputs": [
    {
     "data": {
      "image/png": "[encoded data removed]",
      "text/plain": [
       "<Figure size 432x288 with 1 Axes>"
      ]
     },
     "metadata": {},
     "output_type": "display_data"
    }
   ],
   "source": [
    "# subject 별 relation 가짓 수\n",
    "(\n",
    "    train_df\n",
    "    .drop_duplicates(['subject','relation'])    \n",
    "    .groupby('subject')\n",
    "    ['relation']\n",
    "    .count()\n",
    "    .hist()\n",
    ")\n",
    "plt.show()"
   ]
  },
  {
   "cell_type": "code",
   "execution_count": 10,
   "metadata": {},
   "outputs": [
    {
     "data": {
      "text/plain": [
       "isAffiliatedTo    373783\n",
       "playsFor          321024\n",
       "isLocatedIn        88672\n",
       "hasGender          66163\n",
       "wasBornIn          44978\n",
       "Name: relation, dtype: int64"
      ]
     },
     "execution_count": 10,
     "metadata": {},
     "output_type": "execute_result"
    }
   ],
   "source": [
    "(\n",
    "    train_df\n",
    "    .relation\n",
    "    .value_counts()\n",
    "    .head()\n",
    ")"
   ]
  },
  {
   "cell_type": "markdown",
   "metadata": {},
   "source": [
    "## `TransE`\n",
    "---\n",
    "![](https://imgur.com/qWFcZ15.png)\n",
    "\n",
    "* **reference** : [Translating Embeddings for Modeling Multi-relational Data](https://papers.nips.cc/paper/5071-translating-embeddings-for-modeling-multi-relational-data)"
   ]
  },
  {
   "cell_type": "markdown",
   "metadata": {},
   "source": [
    "### triplet과 knowledge graph \n",
    "\n",
    "지식그래프(Knowledge Graph)은 하나의 지식 체계를 아래와 같은 방식으로 표현합니다.\n",
    "\n",
    "![](https://imgur.com/5armrMx.png)\n",
    "\n",
    "시작점(Subject)와 도착점(object), 그리고 그 관계선(relation)으로 이루어진 **Triplet**의 묶음으로 Knowledge Graph가 형성됩니다.\n",
    "\n",
    "아래의 각 행이 **Triplet**: $(h, r, t)$가 되고 전체 데이터프레임이 **Knowledge Graph**($\\mathcal{G}$)가 됩니다."
   ]
  },
  {
   "cell_type": "code",
   "execution_count": 11,
   "metadata": {},
   "outputs": [
    {
     "data": {
      "text/html": [
       "<div>\n",
       "<style scoped>\n",
       "    .dataframe tbody tr th:only-of-type {\n",
       "        vertical-align: middle;\n",
       "    }\n",
       "\n",
       "    .dataframe tbody tr th {\n",
       "        vertical-align: top;\n",
       "    }\n",
       "\n",
       "    .dataframe thead th {\n",
       "        text-align: right;\n",
       "    }\n",
       "</style>\n",
       "<table border=\"1\" class=\"dataframe\">\n",
       "  <thead>\n",
       "    <tr style=\"text-align: right;\">\n",
       "      <th></th>\n",
       "      <th>subject</th>\n",
       "      <th>relation</th>\n",
       "      <th>object</th>\n",
       "    </tr>\n",
       "  </thead>\n",
       "  <tbody>\n",
       "    <tr>\n",
       "      <th>0</th>\n",
       "      <td>Chatou</td>\n",
       "      <td>isLocatedIn</td>\n",
       "      <td>France</td>\n",
       "    </tr>\n",
       "    <tr>\n",
       "      <th>1</th>\n",
       "      <td>Boo_Young-tae</td>\n",
       "      <td>playsFor</td>\n",
       "      <td>Yangju_Citizen_FC</td>\n",
       "    </tr>\n",
       "    <tr>\n",
       "      <th>2</th>\n",
       "      <td>Toni_Kuivasto</td>\n",
       "      <td>isAffiliatedTo</td>\n",
       "      <td>Helsingin_Jalkapalloklubi</td>\n",
       "    </tr>\n",
       "    <tr>\n",
       "      <th>3</th>\n",
       "      <td>Josh_Smith_(soccer)</td>\n",
       "      <td>playsFor</td>\n",
       "      <td>Trinity_University_(Texas)</td>\n",
       "    </tr>\n",
       "    <tr>\n",
       "      <th>4</th>\n",
       "      <td>Albrecht_Dürer</td>\n",
       "      <td>diedIn</td>\n",
       "      <td>Nuremberg</td>\n",
       "    </tr>\n",
       "  </tbody>\n",
       "</table>\n",
       "</div>"
      ],
      "text/plain": [
       "               subject        relation                      object\n",
       "0               Chatou     isLocatedIn                      France\n",
       "1        Boo_Young-tae        playsFor           Yangju_Citizen_FC\n",
       "2        Toni_Kuivasto  isAffiliatedTo   Helsingin_Jalkapalloklubi\n",
       "3  Josh_Smith_(soccer)        playsFor  Trinity_University_(Texas)\n",
       "4       Albrecht_Dürer          diedIn                   Nuremberg"
      ]
     },
     "execution_count": 11,
     "metadata": {},
     "output_type": "execute_result"
    }
   ],
   "source": [
    "train_df.head()"
   ]
  },
  {
   "cell_type": "markdown",
   "metadata": {},
   "source": [
    "### 목적 : Graph Representation Learning\n",
    "\n",
    "<img src=\"https://imgur.com/2edARFX.png\" width=\"500\">\n",
    "\n",
    "#### 우리의 목표를 수행하기 위해서 우리는 크게 2가지를 구현해야 합니다. \n",
    "\n",
    "* **encoding function** : 각 node를 저차원의 벡터로 어떻게 변환하는가?\n",
    "    - $ENC(v)  = Z_v$\n",
    "\n",
    "* **similarity function** : node 간 유사도를 어떻게 정의하는가? \n",
    "    - $similarity(u, v)$\n"
   ]
  },
  {
   "cell_type": "markdown",
   "metadata": {},
   "source": [
    "### Encoder의 방식 : Swallow Encoding\n",
    "\n",
    "가장 단순한 방식은 encoder을 각 노드에 대한 Embedding-Lookup Table을 구성하는 것입니다.각 노드는 고유한 embedding Vector에 1:1로 매칭되어 있습니다. Encoder를 학습하는 것은 \n",
    "노드 별 Embedding Vector을 학습시키는 것과 같습니다.\n",
    "\n",
    "![](https://imgur.com/IcpbiP4.png)"
   ]
  },
  {
   "cell_type": "markdown",
   "metadata": {},
   "source": [
    "#### Keras Code로 작성하기"
   ]
  },
  {
   "cell_type": "code",
   "execution_count": 12,
   "metadata": {},
   "outputs": [],
   "source": [
    "from tensorflow.keras.layers import Input\n",
    "from tensorflow.keras.layers import Embedding\n",
    "from tensorflow.keras import backend as K\n",
    "from tensorflow.keras.initializers import RandomUniform"
   ]
  },
  {
   "cell_type": "code",
   "execution_count": 13,
   "metadata": {},
   "outputs": [],
   "source": [
    "num_nodes = len(set(train_df.subject) | set(train_df.object))\n",
    "num_edges = len(set(train_df.relation))\n",
    "embed_size = 20\n",
    "\n",
    "# 초기화 방식은 논문에 나와있는 방식으로 구성\n",
    "init_range = 6/np.sqrt(embed_size)\n",
    "init_op = RandomUniform(-init_range, init_range)\n",
    "\n",
    "node_embed_layer = Embedding(input_dim=num_nodes,\n",
    "                             output_dim=embed_size,\n",
    "                             embeddings_initializer=init_op,\n",
    "                             name='node_embed_layer')\n",
    "edge_embed_layer = Embedding(input_dim=num_edges, \n",
    "                             output_dim=embed_size,\n",
    "                             embeddings_initializer=init_op,\n",
    "                             name='edge_embed_layer')"
   ]
  },
  {
   "cell_type": "markdown",
   "metadata": {},
   "source": [
    "### 목적함수 \n",
    "\n",
    "`transE` 모델의 핵심 아이디어는 바로 \n",
    "\n",
    "> subject와 relation의 Vector 합은 바로 Object이다\n",
    "\n",
    "\n",
    "<img src=\"https://miro.medium.com/max/1040/0*kB60MaVUmaeD1wyt.jpg\" width=\"200\">\n",
    "\n",
    "\n",
    "이를 달성하기 위해, $h + r \\approx t$가 되도록 학습합니다. 하지만 단순히 $ Loss = |h + r - t| $ 식으로 손실함수를 설계하면, $h,r,t$ 모두 0으로 학습할 수 있기 때문에, 적절한 제약조건을 추가해야 합니다. 이를 위해 transE에서는 Corrupted Triplets을 도입합니다. Corrupted Triplets은 Knowledge Graph에는 등장하지 않는 Negative Case로, 해당 케이스는 margin보다 더 큰 값이 되도록 하고, Knowledge Graph에 등장한 Positive Case들은 0으로 수렴하도록 손실함수를 구성합니다.\n",
    "\n",
    "$\n",
    "L(h,r,t) = max(0, d_{triplet} - d_{corrupted} + margin)\\\\\n",
    "d = || h + r - t ||\n",
    "$\n",
    "\n",
    "우선 데이터 입력 부분과 corrupted triplets을 생성해보도록 하겠습니다."
   ]
  },
  {
   "cell_type": "markdown",
   "metadata": {},
   "source": [
    "#### 데이터 파이프라인 구성하기"
   ]
  },
  {
   "cell_type": "code",
   "execution_count": 14,
   "metadata": {},
   "outputs": [],
   "source": [
    "# value들은 id로 mapping\n",
    "nodes = set(train_df.subject.unique()) | set(train_df.object.unique())\n",
    "\n",
    "id2node = { i:node for i, node in enumerate(nodes)}\n",
    "node2id = { node:i for i, node in enumerate(nodes)}\n",
    "\n",
    "edges = set(train_df.relation.unique())\n",
    "\n",
    "id2edge = { i:edge for i, edge in enumerate(edges)}\n",
    "edge2id = { edge:i for i, edge in enumerate(edges)}"
   ]
  },
  {
   "cell_type": "code",
   "execution_count": 15,
   "metadata": {},
   "outputs": [],
   "source": [
    "def shuffle_array(arr):\n",
    "    \"\"\"\n",
    "    주어진 numpy Array의 순서를 임의대로 섞는 함수\n",
    "    \"\"\"\n",
    "    arr = arr.copy()\n",
    "    np.random.shuffle(arr)\n",
    "    return arr    \n",
    "\n",
    "def corrupt_triplet(triplet):\n",
    "    \"\"\"\n",
    "    주어진 triplet을 corrupt하여 학습 데이터로 변환하는 작업\n",
    "    \"\"\"\n",
    "    t = triplet\n",
    "    if tf.random.uniform((),0.,1.) < 0.5:\n",
    "        # corrupt object\n",
    "        return {\n",
    "            \"pos_subject\":t['subject'], \"neg_subject\":t['subject'],            \n",
    "            \"pos_object\":t['object'], \"neg_object\":t['shuffled_object'],\n",
    "            \"relation\":t['relation']}\n",
    "    else:\n",
    "        # corrupt subject\n",
    "        return {\n",
    "            \"pos_subject\":t['subject'], \"neg_subject\":t['shuffled_subject'],            \n",
    "            \"pos_object\":t['object'], \"neg_object\":t['object'],\n",
    "            \"relation\":t['relation']}\n",
    "\n",
    "def generate_triplet_dataset(df, node2id, edge2id):    \n",
    "    \"\"\"\n",
    "    \n",
    "    \"\"\"\n",
    "    shuffled_df = df.sample(frac=1.)\n",
    "    subjects = shuffled_df.subject.map(node2id).values\n",
    "    relations = shuffled_df.relation.map(edge2id).values\n",
    "    objects = shuffled_df.object.map(node2id).values\n",
    "\n",
    "    triplets = tf.data.Dataset.from_tensor_slices({\n",
    "        \"subject\":subjects,\n",
    "        \"object\":objects,\n",
    "        \"relation\":relations,\n",
    "        \"shuffled_subject\": shuffle_array(subjects),\n",
    "        \"shuffled_object\": shuffle_array(objects)\n",
    "    }).map(corrupt_triplet)\n",
    "    return triplets"
   ]
  },
  {
   "cell_type": "markdown",
   "metadata": {},
   "source": [
    "#### 입력층과 임베딩층 구성하기\n",
    "\n",
    "세부 구현사항\n",
    "\n",
    "* with the additional constraints that th L2-norm of the embeddings of the entities is 1 ( no regularization or norm constraints are given to the label embeddings). (논문 3page 발췌)"
   ]
  },
  {
   "cell_type": "code",
   "execution_count": 16,
   "metadata": {},
   "outputs": [],
   "source": [
    "pos_sub_inputs = Input(shape=(), name='pos_subject')\n",
    "neg_sub_inputs = Input(shape=(), name='neg_subject')\n",
    "pos_obj_inputs = Input(shape=(), name='pos_object')\n",
    "neg_obj_inputs = Input(shape=(), name='neg_object')\n",
    "rel_inputs = Input(shape=(), name='relation')\n",
    "\n",
    "pos_sub_embed = K.l2_normalize(node_embed_layer(pos_sub_inputs),axis=1)\n",
    "neg_sub_embed = K.l2_normalize(node_embed_layer(neg_sub_inputs),axis=1)\n",
    "pos_obj_embed = K.l2_normalize(node_embed_layer(pos_obj_inputs),axis=1)\n",
    "neg_obj_embed = K.l2_normalize(node_embed_layer(neg_obj_inputs),axis=1)\n",
    "rel_embed = edge_embed_layer(rel_inputs)"
   ]
  },
  {
   "cell_type": "markdown",
   "metadata": {},
   "source": [
    "#### 손실함수 구성하기\n",
    "\n",
    "세부 구현사항\n",
    "* Following an energy-based framework, the energy of a triplet is equal to $d(h+l,t)$ for some dissimilarity measure $d$, which we take to be eight the $L_1$ or the $L_2$-norm."
   ]
  },
  {
   "cell_type": "code",
   "execution_count": 19,
   "metadata": {},
   "outputs": [],
   "source": [
    "def distance(src_embed, dst_embed, norm='l1'):\n",
    "    \"\"\"\n",
    "    src_embed와 dst_embed의 거리\n",
    "    \n",
    "    src_embed : subject + relation\n",
    "    dst_embed : object\n",
    "    \"\"\"\n",
    "    if norm == 'l1':\n",
    "        return K.sum(K.abs(src_embed -dst_embed),1)\n",
    "    elif norm == 'l2':\n",
    "        return K.sum(K.square(src_embed - dst_embed),1)\n",
    "    else:\n",
    "        raise NotImplemented\n",
    "\n",
    "pos_dist = distance(pos_sub_embed+rel_embed, pos_obj_embed)\n",
    "neg_dist = distance(neg_sub_embed+rel_embed, neg_obj_embed)\n",
    "\n",
    "margin = 1\n",
    "loss = K.maximum(margin + pos_dist - neg_dist, 0.)"
   ]
  },
  {
   "cell_type": "markdown",
   "metadata": {},
   "source": [
    "#### 모델 구성하기"
   ]
  },
  {
   "cell_type": "code",
   "execution_count": 74,
   "metadata": {},
   "outputs": [],
   "source": [
    "from tensorflow.keras.models import Model\n",
    "from tensorflow.keras.optimizers import Adagrad, SGD\n",
    "\n",
    "inputs = (pos_sub_inputs, neg_sub_inputs, \n",
    "          pos_obj_inputs, neg_obj_inputs, rel_inputs)\n",
    "\n",
    "model = Model(inputs, loss)\n",
    "model.add_loss(loss)\n",
    "model.compile(optimizer=Adagrad(1e-3))"
   ]
  },
  {
   "cell_type": "markdown",
   "metadata": {},
   "source": [
    "#### 모델 학습하기"
   ]
  },
  {
   "cell_type": "code",
   "execution_count": null,
   "metadata": {},
   "outputs": [
    {
     "name": "stdout",
     "output_type": "stream",
     "text": [
      "Epoch : 1th\n",
      "108/108 [==============================] - 59s 545ms/step - loss: 0.5357\n",
      "Epoch : 2th\n",
      "108/108 [==============================] - 59s 543ms/step - loss: 0.5356\n",
      "Epoch : 3th\n",
      "108/108 [==============================] - 61s 561ms/step - loss: 0.5343\n",
      "Epoch : 4th\n",
      "108/108 [==============================] - 59s 543ms/step - loss: 0.5350\n",
      "Epoch : 5th\n",
      "108/108 [==============================] - 59s 549ms/step - loss: 0.5340\n",
      "Epoch : 6th\n",
      "108/108 [==============================] - 57s 531ms/step - loss: 0.5340\n",
      "Epoch : 7th\n",
      "108/108 [==============================] - 58s 533ms/step - loss: 0.5349\n",
      "Epoch : 8th\n",
      "108/108 [==============================] - 59s 544ms/step - loss: 0.5348\n",
      "Epoch : 9th\n",
      " 25/108 [=====>........................] - ETA: 41s - loss: 0.5335"
     ]
    }
   ],
   "source": [
    "num_epochs = 10\n",
    "batch_size = 10000\n",
    "for i in range(1,num_epochs+1):\n",
    "    print(f\"Epoch : {i}th\")\n",
    "    triplets = generate_triplet_dataset(train_df, node2id, edge2id)\n",
    "    model.fit(x=triplets.batch(batch_size))"
   ]
  },
  {
   "cell_type": "code",
   "execution_count": 67,
   "metadata": {},
   "outputs": [],
   "source": [
    "node_embed = model.get_layer('node_embed_layer').get_weights()[0]\n",
    "edge_embed = model.get_layer('edge_embed_layer').get_weights()[0]\n",
    "\n",
    "l2_norm = np.linalg.norm(node_embed,ord=1,axis=1)[:,None]\n",
    "node_normalized = node_embed / l2_norm\n",
    "node_df = pd.DataFrame(node_normalized)\n",
    "node_df.index = node_df.index.map(id2node)"
   ]
  },
  {
   "cell_type": "code",
   "execution_count": 69,
   "metadata": {},
   "outputs": [
    {
     "data": {
      "text/plain": [
       "Habib_Beye                                    0.064453\n",
       "Elvis_Kokalović                               0.056181\n",
       "Tadayo_Fukuo                                  0.054580\n",
       "Gordon_Riddick                                0.054363\n",
       "Stefano_Fanucci                               0.052609\n",
       "                                                ...   \n",
       "Suzy_McKee_Charnas                           -0.051982\n",
       "Anni_Sinnemäki                               -0.052616\n",
       "James_MacArthur                              -0.053483\n",
       "Ireland_national_football_team_(1882–1950)   -0.056391\n",
       "David_Dhawan                                 -0.057258\n",
       "Length: 123143, dtype: float32"
      ]
     },
     "execution_count": 69,
     "metadata": {},
     "output_type": "execute_result"
    }
   ],
   "source": [
    "node_df.dot(node_df.loc['Habib_Beye']).sort_values(ascending=False)"
   ]
  },
  {
   "cell_type": "code",
   "execution_count": 70,
   "metadata": {},
   "outputs": [
    {
     "data": {
      "text/plain": [
       "The_Eastern_Iowa_Airport           0.062915\n",
       "Mykonos_Island_National_Airport    0.056881\n",
       "Umeå_FC                            0.055911\n",
       "Santander_Airport                  0.054075\n",
       "Bolivia_national_football_team     0.053887\n",
       "                                     ...   \n",
       "Keene,_New_York                   -0.053890\n",
       "Thanasis_Sentementes              -0.055681\n",
       "David_Sánchez_Rodríguez           -0.055816\n",
       "Near_East                         -0.056733\n",
       "Wayne_Hennessey                   -0.057080\n",
       "Length: 123143, dtype: float32"
      ]
     },
     "execution_count": 70,
     "metadata": {},
     "output_type": "execute_result"
    }
   ],
   "source": [
    "node_df.dot(node_df.loc['The_Eastern_Iowa_Airport']).sort_values(ascending=False)"
   ]
  }
 ],
 "metadata": {
  "kernelspec": {
   "display_name": "Python 3",
   "language": "python",
   "name": "python3"
  },
  "language_info": {
   "codemirror_mode": {
    "name": "ipython",
    "version": 3
   },
   "file_extension": ".py",
   "mimetype": "text/x-python",
   "name": "python",
   "nbconvert_exporter": "python",
   "pygments_lexer": "ipython3",
   "version": "3.6.8"
  },
  "toc": {
   "base_numbering": 1,
   "nav_menu": {},
   "number_sections": false,
   "sideBar": true,
   "skip_h1_title": false,
   "title_cell": "Table of Contents",
   "title_sidebar": "Contents",
   "toc_cell": false,
   "toc_position": {},
   "toc_section_display": true,
   "toc_window_display": false
  },
  "varInspector": {
   "cols": {
    "lenName": 16,
    "lenType": 16,
    "lenVar": 40
   },
   "kernels_config": {
    "python": {
     "delete_cmd_postfix": "",
     "delete_cmd_prefix": "del ",
     "library": "var_list.py",
     "varRefreshCmd": "print(var_dic_list())"
    },
    "r": {
     "delete_cmd_postfix": ") ",
     "delete_cmd_prefix": "rm(",
     "library": "var_list.r",
     "varRefreshCmd": "cat(var_dic_list()) "
    }
   },
   "types_to_exclude": [
    "module",
    "function",
    "builtin_function_or_method",
    "instance",
    "_Feature"
   ],
   "window_display": false
  }
 },
 "nbformat": 4,
 "nbformat_minor": 2
}
